{
 "cells": [
  {
   "cell_type": "code",
   "execution_count": null,
   "metadata": {},
   "outputs": [],
   "source": [
    "%cd ../../spell_correction"
   ]
  },
  {
   "cell_type": "code",
   "execution_count": 2,
   "metadata": {},
   "outputs": [],
   "source": [
    "from transformers import MT5ForConditionalGeneration, T5Tokenizer\n",
    "model = MT5ForConditionalGeneration.from_pretrained(\"google/mt5-xl\")\n",
    "tokenizer = T5Tokenizer.from_pretrained(\"google/mt5-xl\")\n",
    "for p in model.parameters():\n",
    "    p.requires_grad = False"
   ]
  },
  {
   "cell_type": "markdown",
   "metadata": {},
   "source": [
    "## Multilingualなsubword分割がどれくらい日本語で使えそうか\n",
    "* \"平安\"や\"申し上げ\"などが分割されているあたり、ある程度しっかり日本語対応できている（以前のMulti-lingual BERTではほぼcharベースだった）\n",
    "* 例外として\"すもももももももものうち\"は\"もも\"で分割されてしまうので意味的にはあまり良くない分割になっている"
   ]
  },
  {
   "cell_type": "code",
   "execution_count": 3,
   "metadata": {},
   "outputs": [
    {
     "data": {
      "text/plain": [
       "'▁\", \"す\", \"もも\", \"もも\", \"もも\", \"もも\", \"のうち\", \"、\", \"とは\", \"平安\", \"時代に\", \"徳\", \"川\", \"家\", \"康\", \"が\", \"申し上げ\", \"た\", \"ものである\", \"といわれ\", \"ている\", \"。'"
      ]
     },
     "execution_count": 3,
     "metadata": {},
     "output_type": "execute_result"
    }
   ],
   "source": [
    "'\", \"'.join(tokenizer.tokenize('すもももももももものうち、とは平安時代に徳川家康が申し上げたものであるといわれている。'))"
   ]
  },
  {
   "cell_type": "code",
   "execution_count": 4,
   "metadata": {},
   "outputs": [
    {
     "data": {
      "text/plain": [
       "'▁\", \"本\", \"記事\", \"では\", \"▁Google\", \"▁\", \"の\", \"▁T\", \"5\", \"(\", \"Text\", \"-\", \"to\", \"-\", \"Text\", \"▁Transfer\", \"▁Transformer\", \")\", \"▁\", \"*1\", \"による\", \"テキスト\", \"生成\", \"について\", \"、\", \"学習\", \"や\", \"推\", \"論\", \"の\", \"コード\", \"例\", \"と\", \"実験\", \"結果を\", \"交\", \"えて\", \"ご紹介します\", \"。\", \"実験\", \"としては\", \"▁live\", \"door\", \"▁\", \"ニュース\", \"コー\", \"パス\", \"*\", \"2\", \"での\", \"文章\", \"分類\", \"、\", \"やさしい\", \"日本語\", \"コー\", \"パス\", \"*\", \"3\", \"及び\", \"やさしい\", \"日本語\", \"拡張\", \"コー\", \"パス\", \"*\", \"4\", \"を用いた\", \"やさしい\", \"日本語\", \"変換\", \"を行いました\", \"。'"
      ]
     },
     "execution_count": 4,
     "metadata": {},
     "output_type": "execute_result"
    }
   ],
   "source": [
    "'\", \"'.join(tokenizer.tokenize(\"本記事では Google の T5(Text-to-Text Transfer Transformer) *1によるテキスト生成について、学習や推論のコード例と実験結果を交えてご紹介します。実験としては livedoor ニュースコーパス*2での文章分類、やさしい日本語コーパス*3及びやさしい日本語拡張コーパス*4を用いたやさしい日本語変換を行いました。\"))"
   ]
  },
  {
   "cell_type": "markdown",
   "metadata": {},
   "source": [
    "## mT5-xlの言語モデリングの性能をチェック"
   ]
  },
  {
   "cell_type": "code",
   "execution_count": 5,
   "metadata": {},
   "outputs": [
    {
     "data": {
      "text/plain": [
       "['<pad>',\n",
       " '▁<extra_id_0>',\n",
       " 'リーダー',\n",
       " '▁<extra_id_1>',\n",
       " '▁',\n",
       " '国',\n",
       " '▁<extra_id_2>',\n",
       " 'リーダー',\n",
       " '▁<extra_id_3>',\n",
       " '▁',\n",
       " 'だ',\n",
       " '。',\n",
       " '▁<extra_id_4>',\n",
       " 'リーダー',\n",
       " '▁<extra_id_5>',\n",
       " 'リーダー',\n",
       " '▁<extra_id_6>',\n",
       " 'リーダー',\n",
       " '▁<extra_id_7>',\n",
       " 'リーダー']"
      ]
     },
     "execution_count": 5,
     "metadata": {},
     "output_type": "execute_result"
    }
   ],
   "source": [
    "text = \"安倍晋三は日本の <extra_id_0> だ。\"\n",
    "outputs = model.generate(tokenizer(text, return_tensors='pt').input_ids)\n",
    "tokenizer.convert_ids_to_tokens(outputs.numpy().tolist()[0])"
   ]
  },
  {
   "cell_type": "code",
   "execution_count": 6,
   "metadata": {},
   "outputs": [
    {
     "data": {
      "text/plain": [
       "['<pad>',\n",
       " '▁<extra_id_0>',\n",
       " '首相',\n",
       " '▁<extra_id_1>',\n",
       " 'アベ',\n",
       " 'ノミ',\n",
       " 'クス',\n",
       " '▁<extra_id_2>',\n",
       " '首相',\n",
       " '▁<extra_id_3>',\n",
       " 'アベ',\n",
       " 'ノミ',\n",
       " 'クス',\n",
       " '▁<extra_id_4>',\n",
       " '首相',\n",
       " '▁<extra_id_5>',\n",
       " '首相',\n",
       " '▁<extra_id_6>',\n",
       " 'アベ',\n",
       " 'ノミ']"
      ]
     },
     "execution_count": 6,
     "metadata": {},
     "output_type": "execute_result"
    }
   ],
   "source": [
    "text = \"安倍晋三は日本の <extra_id_0> で、 <extra_id_1> と呼ばれる経済政策を打ち出し日本経済を大きく回復させた。\"\n",
    "outputs = model.generate(tokenizer(text, return_tensors='pt').input_ids)\n",
    "tokenizer.convert_ids_to_tokens(outputs.numpy().tolist()[0])"
   ]
  },
  {
   "cell_type": "code",
   "execution_count": 7,
   "metadata": {},
   "outputs": [
    {
     "data": {
      "text/plain": [
       "['<pad>',\n",
       " '▁<extra_id_0>',\n",
       " '。',\n",
       " '▁',\n",
       " '本',\n",
       " 'アル',\n",
       " 'ゴ',\n",
       " 'リズム',\n",
       " '▁<extra_id_1>',\n",
       " '、',\n",
       " '一般的に',\n",
       " '▁<extra_id_2>',\n",
       " 'であり',\n",
       " '、',\n",
       " '一般的に',\n",
       " '▁<extra_id_3>',\n",
       " 'である',\n",
       " '。',\n",
       " '▁',\n",
       " '本']"
      ]
     },
     "execution_count": 7,
     "metadata": {},
     "output_type": "execute_result"
    }
   ],
   "source": [
    "# ❌な例, wiki\n",
    "text = \" <extra_id_0>はグラフ理論における最短経路問題を解くための最良優先探索によるアルゴリズムである。\"\n",
    "outputs = model.generate(tokenizer(text, return_tensors='pt').input_ids)\n",
    "tokenizer.convert_ids_to_tokens(outputs.numpy().tolist()[0])"
   ]
  },
  {
   "cell_type": "code",
   "execution_count": 8,
   "metadata": {},
   "outputs": [
    {
     "data": {
      "text/plain": [
       "['<pad>',\n",
       " '▁<extra_id_0>',\n",
       " '俳優',\n",
       " '▁<extra_id_1>',\n",
       " '実は',\n",
       " '普通の',\n",
       " '生活',\n",
       " '▁<extra_id_2>',\n",
       " '俳優',\n",
       " 'な',\n",
       " '▁<extra_id_3>',\n",
       " '実は',\n",
       " '普通の',\n",
       " '生活',\n",
       " '▁<extra_id_4>',\n",
       " '実は',\n",
       " '普通の',\n",
       " '生活',\n",
       " '▁<extra_id_5>',\n",
       " '俳優']"
      ]
     },
     "execution_count": 8,
     "metadata": {},
     "output_type": "execute_result"
    }
   ],
   "source": [
    "# ⭕️な例, yahoo news\n",
    "text = \"売れっ子 <extra_id_0>だけに、豪邸で優雅な暮らしをしているのでは？　と思いきや、 <extra_id_1>を送っている。\"\n",
    "outputs = model.generate(tokenizer(text, return_tensors='pt').input_ids)\n",
    "tokenizer.convert_ids_to_tokens(outputs.numpy().tolist()[0])"
   ]
  },
  {
   "cell_type": "code",
   "execution_count": 9,
   "metadata": {},
   "outputs": [
    {
     "data": {
      "text/plain": [
       "['<pad>',\n",
       " '▁<extra_id_0>',\n",
       " 'のに',\n",
       " '▁<extra_id_1>',\n",
       " '▁',\n",
       " '馬鹿',\n",
       " '▁<extra_id_2>',\n",
       " 'w',\n",
       " '</s>']"
      ]
     },
     "execution_count": 9,
     "metadata": {},
     "output_type": "execute_result"
    }
   ],
   "source": [
    "# ⭕️, 5ch\n",
    "# \"ｗｗｗｗｗｗｗｗｗｗｗｗｗｗｗｗｗｗｗｗｗｗｗｗｗｗｗｗｗ ゴミゲーを１０円で買ったからって１０円の損失やってのｗオマエｗ分かってねえなｗｗｗｗｗ\"\n",
    "text = \"ｗｗｗｗｗｗｗｗｗｗｗｗｗｗｗｗｗｗｗｗｗｗｗｗｗｗｗｗｗ ゴミゲーを１０円で買った <extra_id_0>１０円の損失やってのｗ <extra_id_1>ｗ分かってねえな <extra_id_2>\"\n",
    "outputs = model.generate(tokenizer(text, return_tensors='pt').input_ids)\n",
    "tokenizer.convert_ids_to_tokens(outputs.numpy().tolist()[0])"
   ]
  },
  {
   "cell_type": "code",
   "execution_count": 10,
   "metadata": {},
   "outputs": [
    {
     "data": {
      "text/plain": [
       "['<pad>',\n",
       " '▁<extra_id_0>',\n",
       " '▁',\n",
       " '涙',\n",
       " 'が',\n",
       " '溢れ',\n",
       " 'そう',\n",
       " '▁<extra_id_1>',\n",
       " '曲',\n",
       " 'だね',\n",
       " '。',\n",
       " '▁<extra_id_2>',\n",
       " 'ありがとう',\n",
       " '。',\n",
       " '▁<extra_id_3>',\n",
       " '▁',\n",
       " '▁<extra_id_4>',\n",
       " '▁',\n",
       " '涙',\n",
       " 'が']"
      ]
     },
     "execution_count": 10,
     "metadata": {},
     "output_type": "execute_result"
    }
   ],
   "source": [
    "# ⭕️, twitter\n",
    "# \"しやがれ中ずっと 泣くもんかって涙堪えてたんだけど、HELLO NEW DREAMのcm流れてダメだった。素敵なサプライズ....もう愛しかなくて....すごいよ嵐。スポンサーの皆さんありがとう号泣\"\n",
    "text = \"しやがれ中ずっと 泣くもんかって涙堪えてたんだけど、HELLO NEW DREAMのcm流れて <extra_id_0>だった。素敵な <extra_id_1>もう愛しかなくて....すごいよ嵐。スポンサーの皆さん <extra_id_2>号泣\"\n",
    "outputs = model.generate(tokenizer(text, return_tensors='pt').input_ids)\n",
    "tokenizer.convert_ids_to_tokens(outputs.numpy().tolist()[0])"
   ]
  },
  {
   "cell_type": "markdown",
   "metadata": {},
   "source": [
    "# mT5でzero-shotなスペル修正を行う\n",
    "検証すること\n",
    "1. Recallの高いエラー検出ができたとして、「decodingの各ステップで編集距離による制約を満たす最も尤度の高いトークンを選択していく」ことでエラー修正ができそうかどうかを確認\n",
    "2. mT5のdecoderを使ってスペルエラー検出ができそうかどうか"
   ]
  },
  {
   "cell_type": "markdown",
   "metadata": {},
   "source": [
    "## 1. エラー検出ができたとして、エラー修正ができそうかどうか"
   ]
  },
  {
   "cell_type": "code",
   "execution_count": null,
   "metadata": {},
   "outputs": [],
   "source": []
  },
  {
   "cell_type": "code",
   "execution_count": 11,
   "metadata": {},
   "outputs": [],
   "source": [
    "texts = [\n",
    "    \"彼はファヴローにクラッシック西部劇映画を提供した。\", # 'クラッシック' → 'クラシック'\n",
    "    \"民主党の予備選挙ではヒラリー・クリントンが1位となり、バラク・オバマが僅差の2位だた。\",  # 'だた' → 'だった'\n",
    "    \"クラゲには4つ放射管を持つが触手はもたない。\",  # '' -> 'の'\n",
    "    \"桶狭間の戦いで国友制の鉄砲が織田信長により初めて戦力として使用された。\",  # '制' → '製'\n",
    "    \"ひきこもりの更正をはじめたきっかけ\",  # '正' → '生'\n",
    "]    "
   ]
  },
  {
   "cell_type": "code",
   "execution_count": 12,
   "metadata": {},
   "outputs": [],
   "source": [
    "# 何かしらのエラー検出でマスクする\n",
    "masked_texts = [\n",
    "    \"彼はファヴローに <extra_id_0>西部劇映画を提供した。\", # 'クラッシック' → 'クラシック'\n",
    "    \"民主党の予備選挙ではヒラリー・クリントンが1位となり、バラク・オバマが僅差の2位 <extra_id_0>\",  # 'だた' → 'だった'\n",
    "    \"クラゲには <extra_id_0>を持つが触手はもたない。\",  # '' -> 'の'\n",
    "    \"桶狭間の戦いで <extra_id_0>の鉄砲が織田信長により初めて戦力として使用された。\",  # '制' → '製'\n",
    "    \"ひきこもりの <extra_id_0>をはじめたきっかけ\",  # '正' → '生'\n",
    "]"
   ]
  },
  {
   "cell_type": "code",
   "execution_count": 13,
   "metadata": {},
   "outputs": [],
   "source": [
    "batch = tokenizer.prepare_seq2seq_batch(src_texts=masked_texts, tgt_texts=['<pad> <extra_id_0>'] * 5, return_tensors=\"pt\")\n",
    "output_step1 = model(**batch)"
   ]
  },
  {
   "cell_type": "code",
   "execution_count": 14,
   "metadata": {},
   "outputs": [],
   "source": [
    "top_logits, top_indices = output_step1.logits[:, -1].sort(dim=-1, descending=True)  # 末尾のトークンの次にくる単語の予測をスコアでソート"
   ]
  },
  {
   "cell_type": "code",
   "execution_count": 15,
   "metadata": {},
   "outputs": [
    {
     "name": "stdout",
     "output_type": "stream",
     "text": [
      "torch.Size([5, 250112]) torch.Size([5, 250112])\n"
     ]
    }
   ],
   "source": [
    "print(top_logits.shape, top_indices.shape)"
   ]
  },
  {
   "cell_type": "code",
   "execution_count": 16,
   "metadata": {},
   "outputs": [],
   "source": [
    "top_tokens = [tokenizer.convert_ids_to_tokens(each_indices) for each_indices in top_indices.numpy().tolist()]"
   ]
  },
  {
   "cell_type": "code",
   "execution_count": 17,
   "metadata": {},
   "outputs": [],
   "source": [
    "from spell_correction.utils import BeginningLevenshtein\n",
    "beginning_levenshtein = BeginningLevenshtein()"
   ]
  },
  {
   "cell_type": "code",
   "execution_count": 18,
   "metadata": {},
   "outputs": [],
   "source": [
    "import math\n",
    "def sigmoid(x):\n",
    "    return 1 / (1 + math.exp(-x))"
   ]
  },
  {
   "cell_type": "markdown",
   "metadata": {},
   "source": [
    "### 'クラッシック'に代わる尤もらしい単語\n",
    "\n",
    "原文: 彼はファヴローにクラッシック西部劇映画を提供した。\n",
    "\n",
    "* 単純に尤度が高い単語を選ぶと、文意を損なう。\n",
    "* 尤度が高く、かつ'ク'から始まるトークンを選ぶとスペル修正に使えそう\n",
    "  * 厳密には'クラッシック'の冒頭部との編集距離が小さく、よりマッチしているトークン（詳細は後述）"
   ]
  },
  {
   "cell_type": "code",
   "execution_count": 19,
   "metadata": {},
   "outputs": [],
   "source": [
    "original_token = 'クラッシック'\n",
    "candidates = []\n",
    "for rank, (token, logit, index) in enumerate(zip(top_tokens[0], top_logits[0], top_indices[0])):\n",
    "    candidate = beginning_levenshtein(token, original_token)\n",
    "    candidate['rank'] = rank\n",
    "    candidate['token'] = token\n",
    "    candidate['logit'] = logit.tolist()\n",
    "    candidate['index'] = index.tolist()\n",
    "    # より一致部分が多く、より似ていて、より尤度の高いトークンを選びたい多目的最適化のようなものだが、暫定的に適当なスコアを作って最大化で代用する\n",
    "    candidate['match_score'] = candidate['match_len'] / (candidate['distance'] + 1) * sigmoid(candidate['logit'])\n",
    "    candidates.append(candidate)"
   ]
  },
  {
   "cell_type": "code",
   "execution_count": 20,
   "metadata": {
    "collapsed": true,
    "jupyter": {
     "outputs_hidden": true
    }
   },
   "outputs": [
    {
     "name": "stdout",
     "output_type": "stream",
     "text": [
      "{'match_ref': '', 'match_len': 0, 'distance': 3.0, 'rank': 0, 'token': '多くの', 'logit': 0.07193946838378906, 'index': 36431, 'match_score': 0.0}\n",
      "{'match_ref': '', 'match_len': 0, 'distance': 5.0, 'rank': 1, 'token': 'いくつかの', 'logit': -0.5945250988006592, 'index': 176894, 'match_score': 0.0}\n",
      "{'match_ref': '', 'match_len': 0, 'distance': 1.0, 'rank': 2, 'token': '、', 'logit': -1.3016502857208252, 'index': 292, 'match_score': 0.0}\n",
      "{'match_ref': '', 'match_len': 0, 'distance': 2.0, 'rank': 3, 'token': '彼の', 'logit': -1.5224401950836182, 'index': 104567, 'match_score': 0.0}\n",
      "{'match_ref': '', 'match_len': 0, 'distance': 3.0, 'rank': 4, 'token': '多数の', 'logit': -1.5524663925170898, 'index': 209087, 'match_score': 0.0}\n",
      "{'match_ref': '', 'match_len': 0, 'distance': 3.0, 'rank': 5, 'token': '優れた', 'logit': -1.7015354633331299, 'index': 163464, 'match_score': 0.0}\n",
      "{'match_ref': '', 'match_len': 0, 'distance': 3.0, 'rank': 6, 'token': '最高の', 'logit': -1.9628660678863525, 'index': 125049, 'match_score': 0.0}\n",
      "{'match_ref': '', 'match_len': 0, 'distance': 3.0, 'rank': 7, 'token': '新しい', 'logit': -2.120694160461426, 'index': 26634, 'match_score': 0.0}\n",
      "{'match_ref': '', 'match_len': 0, 'distance': 2.0, 'rank': 8, 'token': '主演', 'logit': -2.228325366973877, 'index': 137473, 'match_score': 0.0}\n",
      "{'match_ref': '', 'match_len': 0, 'distance': 5.0, 'rank': 9, 'token': '素晴らしい', 'logit': -2.3063230514526367, 'index': 71651, 'match_score': 0.0}\n",
      "{'match_ref': '', 'match_len': 0, 'distance': 1.0, 'rank': 10, 'token': '数', 'logit': -2.4041173458099365, 'index': 4890, 'match_score': 0.0}\n",
      "{'match_ref': '', 'match_len': 0, 'distance': 3.0, 'rank': 11, 'token': '非常に', 'logit': -2.40549635887146, 'index': 50068, 'match_score': 0.0}\n",
      "{'match_ref': '', 'match_len': 0, 'distance': 1.0, 'rank': 12, 'token': '3', 'logit': -2.4560694694519043, 'index': 328, 'match_score': 0.0}\n",
      "{'match_ref': '', 'match_len': 0, 'distance': 2.0, 'rank': 13, 'token': '最も', 'logit': -2.4619789123535156, 'index': 65454, 'match_score': 0.0}\n",
      "{'match_ref': '', 'match_len': 0, 'distance': 2.0, 'rank': 14, 'token': '20', 'logit': -2.464188814163208, 'index': 1117, 'match_score': 0.0}\n",
      "{'match_ref': '', 'match_len': 0, 'distance': 3.0, 'rank': 15, 'token': '有名な', 'logit': -2.4728353023529053, 'index': 105094, 'match_score': 0.0}\n",
      "{'match_ref': '', 'match_len': 0, 'distance': 3.0, 'rank': 16, 'token': '数多く', 'logit': -2.4780445098876953, 'index': 219451, 'match_score': 0.0}\n",
      "{'match_ref': '', 'match_len': 0, 'distance': 3.0, 'rank': 17, 'token': '数々の', 'logit': -2.4881579875946045, 'index': 236912, 'match_score': 0.0}\n",
      "{'match_ref': '', 'match_len': 0, 'distance': 2.0, 'rank': 18, 'token': '映画', 'logit': -2.5468146800994873, 'index': 25875, 'match_score': 0.0}\n",
      "{'match_ref': '', 'match_len': 0, 'distance': 2.0, 'rank': 19, 'token': '多く', 'logit': -2.581333637237549, 'index': 81762, 'match_score': 0.0}\n",
      "{'match_ref': '', 'match_len': 0, 'distance': 3.0, 'rank': 20, 'token': '様々な', 'logit': -2.594240188598633, 'index': 42436, 'match_score': 0.0}\n",
      "{'match_ref': '', 'match_len': 0, 'distance': 3.0, 'rank': 21, 'token': '最初の', 'logit': -2.6035847663879395, 'index': 100843, 'match_score': 0.0}\n",
      "{'match_ref': '', 'match_len': 0, 'distance': 5.0, 'rank': 22, 'token': 'たくさんの', 'logit': -2.623265266418457, 'index': 100578, 'match_score': 0.0}\n",
      "{'match_ref': '', 'match_len': 0, 'distance': 4.0, 'rank': 23, 'token': 'アメリカ', 'logit': -2.690092086791992, 'index': 40722, 'match_score': 0.0}\n",
      "{'match_ref': '', 'match_len': 0, 'distance': 4.0, 'rank': 24, 'token': 'すべての', 'logit': -2.7146928310394287, 'index': 65867, 'match_score': 0.0}\n",
      "{'match_ref': '', 'match_len': 0, 'distance': 5.0, 'rank': 25, 'token': 'アメリカの', 'logit': -2.7167959213256836, 'index': 152775, 'match_score': 0.0}\n",
      "{'match_ref': '', 'match_len': 0, 'distance': 1.0, 'rank': 26, 'token': '2', 'logit': -2.8604822158813477, 'index': 338, 'match_score': 0.0}\n",
      "{'match_ref': '', 'match_len': 0, 'distance': 3.0, 'rank': 27, 'token': '初めて', 'logit': -2.913959264755249, 'index': 48785, 'match_score': 0.0}\n",
      "{'match_ref': '', 'match_len': 0, 'distance': 3.0, 'rank': 28, 'token': '何度も', 'logit': -2.921882152557373, 'index': 101634, 'match_score': 0.0}\n",
      "{'match_ref': '', 'match_len': 0, 'distance': 5.0, 'rank': 29, 'token': 'さまざまな', 'logit': -2.9227488040924072, 'index': 88842, 'match_score': 0.0}\n"
     ]
    }
   ],
   "source": [
    "for c in candidates[:30]:\n",
    "    print(c)"
   ]
  },
  {
   "cell_type": "code",
   "execution_count": 21,
   "metadata": {},
   "outputs": [
    {
     "name": "stdout",
     "output_type": "stream",
     "text": [
      "{'match_ref': 'クラッシック', 'match_len': 6, 'distance': 1.0, 'rank': 232, 'token': 'クラシック', 'logit': -4.78184700012207, 'index': 119003, 'match_score': 0.02493257005628992}\n",
      "{'match_ref': 'クラ', 'match_len': 2, 'distance': 3.0, 'rank': 220, 'token': 'フランス', 'logit': -4.710697174072266, 'index': 75179, 'match_score': 0.0044591254873828255}\n",
      "{'match_ref': 'クラッ', 'match_len': 3, 'distance': 4.0, 'rank': 323, 'token': 'ヨーロッパ', 'logit': -5.108414649963379, 'index': 122950, 'match_score': 0.0036055976733741757}\n",
      "{'match_ref': 'クラッ', 'match_len': 3, 'distance': 2.0, 'rank': 640, 'token': 'ブラック', 'logit': -5.78403377532959, 'index': 21545, 'match_score': 0.0030668468356141723}\n",
      "{'match_ref': 'クラ', 'match_len': 2, 'distance': 2.0, 'rank': 443, 'token': 'ドラマ', 'logit': -5.399911403656006, 'index': 53130, 'match_score': 0.002997779827072545}\n",
      "{'match_ref': 'ク', 'match_len': 1, 'distance': 0.0, 'rank': 708, 'token': 'ク', 'logit': -5.884771823883057, 'index': 6662, 'match_score': 0.002773765644475654}\n",
      "{'match_ref': 'クラ', 'match_len': 2, 'distance': 4.0, 'rank': 324, 'token': 'オンライン', 'logit': -5.108529090881348, 'index': 61763, 'match_score': 0.0024034583655130628}\n",
      "{'match_ref': 'クラ', 'match_len': 2, 'distance': 6.0, 'rank': 248, 'token': 'オーストラリア', 'logit': -4.820459365844727, 'index': 175493, 'match_score': 0.002285311171635368}\n",
      "{'match_ref': 'クラ', 'match_len': 2, 'distance': 1.0, 'rank': 912, 'token': 'トラ', 'logit': -6.183650493621826, 'index': 56376, 'match_score': 0.0020586368215256058}\n",
      "{'match_ref': 'クラ', 'match_len': 2, 'distance': 5.0, 'rank': 343, 'token': 'プライベート', 'logit': -5.1739678382873535, 'index': 162722, 'match_score': 0.0018767265514638657}\n",
      "{'match_ref': 'ク', 'match_len': 1, 'distance': 5.0, 'rank': 178, 'token': 'ニューヨーク', 'logit': -4.485743999481201, 'index': 136215, 'match_score': 0.0018571560759941136}\n",
      "{'match_ref': 'クラッシ', 'match_len': 4, 'distance': 8.0, 'rank': 495, 'token': 'インターナショナル', 'logit': -5.507558822631836, 'index': 223486, 'match_score': 0.0017953831385062252}\n",
      "{'match_ref': 'クラ', 'match_len': 2, 'distance': 0.0, 'rank': 1863, 'token': 'クラ', 'logit': -7.138404369354248, 'index': 48440, 'match_score': 0.0015867761625547956}\n",
      "{'match_ref': 'クラ', 'match_len': 2, 'distance': 2.0, 'rank': 896, 'token': 'カラー', 'logit': -6.168946743011475, 'index': 16348, 'match_score': 0.0013927109567029097}\n",
      "{'match_ref': 'クラッ', 'match_len': 3, 'distance': 3.0, 'rank': 1019, 'token': 'ロボット', 'logit': -6.315937519073486, 'index': 160365, 'match_score': 0.0013530077105001718}\n",
      "{'match_ref': 'クラ', 'match_len': 2, 'distance': 3.0, 'rank': 725, 'token': 'ベテラン', 'logit': -5.914231300354004, 'index': 238458, 'match_score': 0.0013467303656948236}\n",
      "{'match_ref': 'クラッシ', 'match_len': 4, 'distance': 3.0, 'rank': 1271, 'token': 'フレッシュ', 'logit': -6.626274108886719, 'index': 214336, 'match_score': 0.0013233375020754896}\n",
      "{'match_ref': 'クラッ', 'match_len': 3, 'distance': 1.0, 'rank': 1810, 'token': 'ラッ', 'logit': -7.1000847816467285, 'index': 204879, 'match_score': 0.0012365322763430693}\n",
      "{'match_ref': 'クラッシック', 'match_len': 6, 'distance': 4.0, 'rank': 1541, 'token': 'オーガニック', 'logit': -6.8829498291015625, 'index': 208063, 'match_score': 0.0012288790545287025}\n",
      "{'match_ref': 'クラ', 'match_len': 2, 'distance': 1.0, 'rank': 1371, 'token': 'クラス', 'logit': -6.714933395385742, 'index': 65478, 'match_score': 0.0012111979988611017}\n",
      "{'match_ref': 'クラッ', 'match_len': 3, 'distance': 2.0, 'rank': 1421, 'token': 'ラップ', 'logit': -6.753227233886719, 'index': 145702, 'match_score': 0.0011657464583634189}\n",
      "{'match_ref': 'クラ', 'match_len': 2, 'distance': 3.0, 'rank': 839, 'token': 'ブラウン', 'logit': -6.09795618057251, 'index': 83887, 'match_score': 0.0011212083449768768}\n",
      "{'match_ref': 'クラ', 'match_len': 2, 'distance': 3.0, 'rank': 868, 'token': 'ブラジル', 'logit': -6.146760940551758, 'index': 170286, 'match_score': 0.0010679159530789383}\n",
      "{'match_ref': 'クラ', 'match_len': 2, 'distance': 1.0, 'rank': 1529, 'token': 'ブラ', 'logit': -6.873610019683838, 'index': 43000, 'match_score': 0.0010336653310839617}\n",
      "{'match_ref': 'クラ', 'match_len': 2, 'distance': 1.0, 'rank': 1560, 'token': 'アラ', 'logit': -6.895724773406982, 'index': 121307, 'match_score': 0.0010110798460738215}\n",
      "{'match_ref': 'クラッ', 'match_len': 3, 'distance': 3.0, 'rank': 1259, 'token': 'デラックス', 'logit': -6.611726760864258, 'index': 230299, 'match_score': 0.0010070274174312941}\n",
      "{'match_ref': 'クラ', 'match_len': 2, 'distance': 3.0, 'rank': 942, 'token': 'カラフル', 'logit': -6.236204147338867, 'index': 216536, 'match_score': 0.0009767237630279025}\n",
      "{'match_ref': 'クラッシ', 'match_len': 4, 'distance': 4.0, 'rank': 1414, 'token': 'ファッション', 'logit': -6.749659538269043, 'index': 48804, 'match_score': 0.0009359264323425317}\n",
      "{'match_ref': 'クラッ', 'match_len': 3, 'distance': 2.0, 'rank': 1721, 'token': 'トラック', 'logit': -7.024180889129639, 'index': 102327, 'match_score': 0.0008893047417790985}\n",
      "{'match_ref': 'クラ', 'match_len': 2, 'distance': 4.0, 'rank': 888, 'token': 'レギュラー', 'logit': -6.163229465484619, 'index': 136617, 'match_score': 0.0008404076999040948}\n"
     ]
    }
   ],
   "source": [
    "for c in sorted(candidates, key=lambda c: c['match_score'], reverse=True)[:30]:\n",
    "    print(c)"
   ]
  },
  {
   "cell_type": "code",
   "execution_count": 22,
   "metadata": {},
   "outputs": [
    {
     "name": "stdout",
     "output_type": "stream",
     "text": [
      "{'match_ref': 'クラッシック', 'match_len': 6, 'distance': 1.0, 'rank': 232, 'token': 'クラシック', 'logit': -4.78184700012207, 'index': 119003, 'match_score': 0.018344359878551545}\n",
      "{'match_ref': 'ク', 'match_len': 1, 'distance': 0.0, 'rank': 708, 'token': 'ク', 'logit': -5.884771823883057, 'index': 6662, 'match_score': 0.002773765644475654}\n",
      "{'match_ref': 'クラ', 'match_len': 2, 'distance': 0.0, 'rank': 1863, 'token': 'クラ', 'logit': -7.138404369354248, 'index': 48440, 'match_score': 0.0015867761625547956}\n",
      "{'match_ref': 'クラ', 'match_len': 2, 'distance': 1.0, 'rank': 912, 'token': 'トラ', 'logit': -6.183650493621826, 'index': 56376, 'match_score': 0.0015146603269555882}\n",
      "{'match_ref': 'クラッ', 'match_len': 3, 'distance': 2.0, 'rank': 640, 'token': 'ブラック', 'logit': -5.78403377532959, 'index': 21545, 'match_score': 0.00124515775542346}\n",
      "{'match_ref': 'クラ', 'match_len': 2, 'distance': 2.0, 'rank': 443, 'token': 'ドラマ', 'logit': -5.399911403656006, 'index': 53130, 'match_score': 0.0012171161459336001}\n",
      "{'match_ref': 'クラッ', 'match_len': 3, 'distance': 1.0, 'rank': 1810, 'token': 'ラッ', 'logit': -7.1000847816467285, 'index': 204879, 'match_score': 0.0009097896056230797}\n",
      "{'match_ref': 'クラ', 'match_len': 2, 'distance': 1.0, 'rank': 1371, 'token': 'クラス', 'logit': -6.714933395385742, 'index': 65478, 'match_score': 0.0008911496859379827}\n",
      "{'match_ref': 'クラ', 'match_len': 2, 'distance': 3.0, 'rank': 220, 'token': 'フランス', 'logit': -4.710697174072266, 'index': 75179, 'match_score': 0.0008880271420048535}\n",
      "{'match_ref': 'クラ', 'match_len': 2, 'distance': 1.0, 'rank': 1529, 'token': 'ブラ', 'logit': -6.873610019683838, 'index': 43000, 'match_score': 0.0007605284487149235}\n",
      "{'match_ref': 'クラ', 'match_len': 2, 'distance': 1.0, 'rank': 1560, 'token': 'アラ', 'logit': -6.895724773406982, 'index': 121307, 'match_score': 0.0007439109775066908}\n",
      "{'match_ref': 'クラ', 'match_len': 2, 'distance': 2.0, 'rank': 896, 'token': 'カラー', 'logit': -6.168946743011475, 'index': 16348, 'match_score': 0.0005654487953763664}\n",
      "{'match_ref': 'クラ', 'match_len': 2, 'distance': 1.0, 'rank': 2022, 'token': 'グラ', 'logit': -7.264132022857666, 'index': 67915, 'match_score': 0.0005148243383657438}\n",
      "{'match_ref': 'クラ', 'match_len': 2, 'distance': 1.0, 'rank': 2033, 'token': 'クライ', 'logit': -7.2736735343933105, 'index': 182719, 'match_score': 0.0005099388849153843}\n",
      "{'match_ref': 'クラッ', 'match_len': 3, 'distance': 2.0, 'rank': 1421, 'token': 'ラップ', 'logit': -6.753227233886719, 'index': 145702, 'match_score': 0.00047329988137407425}\n",
      "{'match_ref': 'ク', 'match_len': 1, 'distance': 1.0, 'rank': 1490, 'token': 'クリ', 'logit': -6.817795276641846, 'index': 68250, 'match_score': 0.0004020682092297678}\n",
      "{'match_ref': 'クラ', 'match_len': 2, 'distance': 1.0, 'rank': 2402, 'token': 'ミラ', 'logit': -7.512587070465088, 'index': 100484, 'match_score': 0.0004016273428577142}\n",
      "{'match_ref': 'ク', 'match_len': 1, 'distance': 1.0, 'rank': 1539, 'token': 'クレ', 'logit': -6.8820061683654785, 'index': 87711, 'match_score': 0.00037708809435491297}\n",
      "{'match_ref': 'クラ', 'match_len': 2, 'distance': 1.0, 'rank': 2520, 'token': 'ドラ', 'logit': -7.591859340667725, 'index': 101246, 'match_score': 0.0003710341040439327}\n",
      "{'match_ref': 'クラッ', 'match_len': 3, 'distance': 2.0, 'rank': 1721, 'token': 'トラック', 'logit': -7.024180889129639, 'index': 102327, 'match_score': 0.000361062927337011}\n",
      "{'match_ref': 'クラ', 'match_len': 2, 'distance': 1.0, 'rank': 2628, 'token': 'イラ', 'logit': -7.655086994171143, 'index': 204135, 'match_score': 0.0003483115116666567}\n",
      "{'match_ref': 'クラッ', 'match_len': 3, 'distance': 4.0, 'rank': 323, 'token': 'ヨーロッパ', 'logit': -5.108414649963379, 'index': 122950, 'match_score': 0.0003301941248179077}\n",
      "{'match_ref': 'クラ', 'match_len': 2, 'distance': 2.0, 'rank': 1406, 'token': 'グラン', 'logit': -6.741635799407959, 'index': 129535, 'match_score': 0.00031920767872633973}\n",
      "{'match_ref': 'ク', 'match_len': 1, 'distance': 2.0, 'rank': 820, 'token': 'バック', 'logit': -6.07127571105957, 'index': 35753, 'match_score': 0.00031166512063113906}\n",
      "{'match_ref': 'クラ', 'match_len': 2, 'distance': 1.0, 'rank': 2820, 'token': 'フラ', 'logit': -7.775093078613281, 'index': 100736, 'match_score': 0.0003089392574514595}\n",
      "{'match_ref': 'クラ', 'match_len': 2, 'distance': 2.0, 'rank': 1450, 'token': 'フラン', 'logit': -6.777205944061279, 'index': 156622, 'match_score': 0.0003080656744553583}\n",
      "{'match_ref': 'クラ', 'match_len': 2, 'distance': 2.0, 'rank': 1519, 'token': 'コラボ', 'logit': -6.848818778991699, 'index': 134105, 'match_score': 0.000286798194621633}\n",
      "{'match_ref': 'ク', 'match_len': 1, 'distance': 1.0, 'rank': 1909, 'token': 'ビク', 'logit': -7.172239780426025, 'index': 203572, 'match_score': 0.0002821682348244272}\n",
      "{'match_ref': 'クラ', 'match_len': 2, 'distance': 2.0, 'rank': 1545, 'token': 'ドラム', 'logit': -6.885633945465088, 'index': 157082, 'match_score': 0.0002764422525179202}\n",
      "{'match_ref': 'クラッ', 'match_len': 3, 'distance': 3.0, 'rank': 1019, 'token': 'ロボット', 'logit': -6.315937519073486, 'index': 160365, 'match_score': 0.0002694491495396765}\n"
     ]
    }
   ],
   "source": [
    "# 別のスコア関数を試してみる (distanceにexpをかけることで、編集距離を重視)\n",
    "# 2番目の候補が'ク'になっていていい感じ\n",
    "original_token = 'クラッシック'\n",
    "candidates = []\n",
    "for rank, (token, logit, index) in enumerate(zip(top_tokens[0], top_logits[0], top_indices[0])):\n",
    "    candidate = beginning_levenshtein(token, original_token)\n",
    "    candidate['rank'] = rank\n",
    "    candidate['token'] = token\n",
    "    candidate['logit'] = logit.tolist()\n",
    "    candidate['index'] = index.tolist()\n",
    "    # より一致部分が多く、より似ていて、より尤度の高いトークンを選びたい多目的最適化のようなものだが、暫定的に適当なスコアを作って最大化で代用する\n",
    "    candidate['match_score'] = candidate['match_len'] / math.exp(candidate['distance']) * sigmoid(candidate['logit'])\n",
    "    candidates.append(candidate)\n",
    "for c in sorted(candidates, key=lambda c: c['match_score'], reverse=True)[:30]:\n",
    "    print(c)"
   ]
  },
  {
   "cell_type": "code",
   "execution_count": 23,
   "metadata": {},
   "outputs": [
    {
     "name": "stdout",
     "output_type": "stream",
     "text": [
      "{'match_ref': 'だた', 'match_len': 2, 'distance': 2.0, 'rank': 5, 'token': '優れた', 'logit': -1.7015354633331299, 'index': 163464, 'match_score': 0.10284322075251456}\n",
      "{'match_ref': 'だた', 'match_len': 2, 'distance': 1.0, 'rank': 44, 'token': 'また', 'logit': -3.4567394256591797, 'index': 6134, 'match_score': 0.030568509618185774}\n",
      "{'match_ref': 'だ', 'match_len': 1, 'distance': 1.0, 'rank': 53, 'token': 'まだ', 'logit': -3.5848755836486816, 'index': 27363, 'match_score': 0.013495687398999649}\n",
      "{'match_ref': 'だた', 'match_len': 2, 'distance': 2.0, 'rank': 149, 'token': '新たな', 'logit': -4.3365936279296875, 'index': 87989, 'match_score': 0.008608071841784054}\n",
      "{'match_ref': 'だた', 'match_len': 2, 'distance': 1.0, 'rank': 236, 'token': '似た', 'logit': -4.786910057067871, 'index': 224733, 'match_score': 0.008269231763908105}\n",
      "{'match_ref': 'だた', 'match_len': 2, 'distance': 3.0, 'rank': 263, 'token': '発表した', 'logit': -4.878444671630859, 'index': 193782, 'match_score': 0.0037756909117377113}\n",
      "{'match_ref': 'だた', 'match_len': 2, 'distance': 2.0, 'rank': 570, 'token': '新たに', 'logit': -5.659019947052002, 'index': 153633, 'match_score': 0.002315881410555051}\n",
      "{'match_ref': 'だた', 'match_len': 2, 'distance': 2.0, 'rank': 600, 'token': '当たり', 'logit': -5.717233657836914, 'index': 91444, 'match_score': 0.0021853436936300303}\n",
      "{'match_ref': 'だた', 'match_len': 2, 'distance': 3.0, 'rank': 463, 'token': '子供たち', 'logit': -5.443312644958496, 'index': 174563, 'match_score': 0.002153252840978193}\n",
      "{'match_ref': 'だた', 'match_len': 2, 'distance': 1.0, 'rank': 891, 'token': '見た', 'logit': -6.165638446807861, 'index': 113704, 'match_score': 0.0020959746206661665}\n",
      "{'match_ref': 'だた', 'match_len': 2, 'distance': 3.0, 'rank': 484, 'token': '私たちの', 'logit': -5.479508876800537, 'index': 152818, 'match_score': 0.002077024872119731}\n",
      "{'match_ref': 'だ', 'match_len': 1, 'distance': 1.0, 'rank': 517, 'token': 'だけ', 'logit': -5.551756381988525, 'index': 13386, 'match_score': 0.0019328171295953768}\n",
      "{'match_ref': 'だた', 'match_len': 2, 'distance': 3.0, 'rank': 605, 'token': 'あなたの', 'logit': -5.733243465423584, 'index': 42283, 'match_score': 0.0016130604849851273}\n",
      "{'match_ref': 'だた', 'match_len': 2, 'distance': 2.0, 'rank': 844, 'token': '私たち', 'logit': -6.104677200317383, 'index': 127420, 'match_score': 0.0014849529032832831}\n",
      "{'match_ref': 'だた', 'match_len': 2, 'distance': 3.0, 'rank': 723, 'token': '作られた', 'logit': -5.910086631774902, 'index': 185311, 'match_score': 0.0013523085721496879}\n",
      "{'match_ref': 'だた', 'match_len': 2, 'distance': 3.0, 'rank': 758, 'token': '生まれた', 'logit': -5.966432094573975, 'index': 166033, 'match_score': 0.0012784084587688829}\n",
      "{'match_ref': 'だた', 'match_len': 2, 'distance': 3.0, 'rank': 768, 'token': 'まったく', 'logit': -5.977933883666992, 'index': 121200, 'match_score': 0.0012638256657165347}\n",
      "{'match_ref': 'だた', 'match_len': 2, 'distance': 2.0, 'rank': 1039, 'token': '作った', 'logit': -6.338323593139648, 'index': 148490, 'match_score': 0.001176096466088873}\n",
      "{'match_ref': 'だた', 'match_len': 2, 'distance': 2.0, 'rank': 1126, 'token': '撮った', 'logit': -6.452353477478027, 'index': 237354, 'match_score': 0.0010495496090988992}\n",
      "{'match_ref': 'だた', 'match_len': 2, 'distance': 2.0, 'rank': 1206, 'token': '当たる', 'logit': -6.540367126464844, 'index': 195947, 'match_score': 0.0009612508514663105}\n",
      "{'match_ref': 'だた', 'match_len': 2, 'distance': 3.0, 'rank': 1011, 'token': '出会った', 'logit': -6.31279993057251, 'index': 235654, 'match_score': 0.0009048345761885006}\n",
      "{'match_ref': 'だた', 'match_len': 2, 'distance': 3.0, 'rank': 1024, 'token': '私たちが', 'logit': -6.3212385177612305, 'index': 221680, 'match_score': 0.0008972448210412576}\n",
      "{'match_ref': 'だた', 'match_len': 2, 'distance': 3.0, 'rank': 1074, 'token': '充実した', 'logit': -6.387637138366699, 'index': 238018, 'match_score': 0.0008397006220742143}\n",
      "{'match_ref': 'だた', 'match_len': 2, 'distance': 3.0, 'rank': 1090, 'token': '行われた', 'logit': -6.401731491088867, 'index': 231749, 'match_score': 0.0008279680590541792}\n",
      "{'match_ref': 'だた', 'match_len': 2, 'distance': 4.0, 'rank': 963, 'token': 'したがって', 'logit': -6.2593278884887695, 'index': 184487, 'match_score': 0.0007635520027652166}\n",
      "{'match_ref': 'だた', 'match_len': 2, 'distance': 3.0, 'rank': 1166, 'token': '始まった', 'logit': -6.500893592834473, 'index': 217715, 'match_score': 0.000749921710631818}\n",
      "{'match_ref': 'だた', 'match_len': 2, 'distance': 2.0, 'rank': 1651, 'token': '会った', 'logit': -6.975973606109619, 'index': 214979, 'match_score': 0.0006221232493462441}\n",
      "{'match_ref': 'だた', 'match_len': 2, 'distance': 3.0, 'rank': 1535, 'token': 'そうした', 'logit': -6.880019187927246, 'index': 165925, 'match_score': 0.0005135341817253767}\n",
      "{'match_ref': 'だた', 'match_len': 2, 'distance': 1.0, 'rank': 2571, 'token': 'わた', 'logit': -7.621779441833496, 'index': 216460, 'match_score': 0.0004894300575486238}\n",
      "{'match_ref': 'だた', 'match_len': 2, 'distance': 2.0, 'rank': 1971, 'token': 'された', 'logit': -7.222011089324951, 'index': 7351, 'match_score': 0.00048653278794047884}\n"
     ]
    }
   ],
   "source": [
    "# \"民主党の予備選挙ではヒラリー・クリントンが1位となり、バラク・オバマが僅差の2位 <extra_id_0>\",  # 'だた' → 'だった'\n",
    "original_token = 'だた'\n",
    "candidates = []\n",
    "for rank, (token, logit, index) in enumerate(zip(top_tokens[0], top_logits[0], top_indices[0])):\n",
    "    candidate = beginning_levenshtein(token, original_token)\n",
    "    candidate['rank'] = rank\n",
    "    candidate['token'] = token\n",
    "    candidate['logit'] = logit.tolist()\n",
    "    candidate['index'] = index.tolist()\n",
    "    # より一致部分が多く、より似ていて、より尤度の高いトークンを選びたい多目的最適化のようなものだが、暫定的に適当なスコアを作って最大化で代用する\n",
    "    candidate['match_score'] = candidate['match_len'] / (candidate['distance'] + 1) * sigmoid(candidate['logit'])\n",
    "    candidates.append(candidate)\n",
    "for c in sorted(candidates, key=lambda c: c['match_score'], reverse=True)[:30]:\n",
    "    print(c)"
   ]
  },
  {
   "cell_type": "code",
   "execution_count": 24,
   "metadata": {},
   "outputs": [
    {
     "name": "stdout",
     "output_type": "stream",
     "text": [
      "{'match_ref': 'だた', 'match_len': 2, 'distance': 2.0, 'rank': 5, 'token': '優れた', 'logit': -1.7015354633331299, 'index': 163464, 'match_score': 0.04175494922852113}\n",
      "{'match_ref': 'だた', 'match_len': 2, 'distance': 1.0, 'rank': 44, 'token': 'また', 'logit': -3.4567394256591797, 'index': 6134, 'match_score': 0.022491052471564084}\n",
      "{'match_ref': 'だ', 'match_len': 1, 'distance': 1.0, 'rank': 53, 'token': 'まだ', 'logit': -3.5848755836486816, 'index': 27363, 'match_score': 0.009929571877136934}\n",
      "{'match_ref': 'だた', 'match_len': 2, 'distance': 1.0, 'rank': 236, 'token': '似た', 'logit': -4.786910057067871, 'index': 224733, 'match_score': 0.0060841607204473085}\n",
      "{'match_ref': 'だた', 'match_len': 2, 'distance': 2.0, 'rank': 149, 'token': '新たな', 'logit': -4.3365936279296875, 'index': 87989, 'match_score': 0.003494927522486866}\n",
      "{'match_ref': 'だた', 'match_len': 2, 'distance': 1.0, 'rank': 891, 'token': '見た', 'logit': -6.165638446807861, 'index': 113704, 'match_score': 0.0015421319443203903}\n",
      "{'match_ref': 'だ', 'match_len': 1, 'distance': 1.0, 'rank': 517, 'token': 'だけ', 'logit': -5.551756381988525, 'index': 13386, 'match_score': 0.001422087371044277}\n",
      "{'match_ref': 'だた', 'match_len': 2, 'distance': 2.0, 'rank': 570, 'token': '新たに', 'logit': -5.659019947052002, 'index': 153633, 'match_score': 0.000940261399919622}\n",
      "{'match_ref': 'だた', 'match_len': 2, 'distance': 2.0, 'rank': 600, 'token': '当たり', 'logit': -5.717233657836914, 'index': 91444, 'match_score': 0.0008872623232402967}\n",
      "{'match_ref': 'だた', 'match_len': 2, 'distance': 3.0, 'rank': 263, 'token': '発表した', 'logit': -4.878444671630859, 'index': 193782, 'match_score': 0.000751922326234432}\n",
      "{'match_ref': 'だた', 'match_len': 2, 'distance': 2.0, 'rank': 844, 'token': '私たち', 'logit': -6.104677200317383, 'index': 127420, 'match_score': 0.0006028995652766205}\n",
      "{'match_ref': 'だた', 'match_len': 2, 'distance': 2.0, 'rank': 1039, 'token': '作った', 'logit': -6.338323593139648, 'index': 148490, 'match_score': 0.0004775020450551507}\n",
      "{'match_ref': 'だた', 'match_len': 2, 'distance': 3.0, 'rank': 463, 'token': '子供たち', 'logit': -5.443312644958496, 'index': 174563, 'match_score': 0.00042881658562831423}\n",
      "{'match_ref': 'だた', 'match_len': 2, 'distance': 2.0, 'rank': 1126, 'token': '撮った', 'logit': -6.452353477478027, 'index': 237354, 'match_score': 0.00042612328085482707}\n",
      "{'match_ref': 'だた', 'match_len': 2, 'distance': 3.0, 'rank': 484, 'token': '私たちの', 'logit': -5.479508876800537, 'index': 152818, 'match_score': 0.0004136359172399156}\n",
      "{'match_ref': 'だた', 'match_len': 2, 'distance': 2.0, 'rank': 1206, 'token': '当たる', 'logit': -6.540367126464844, 'index': 195947, 'match_score': 0.0003902734687338848}\n",
      "{'match_ref': 'だた', 'match_len': 2, 'distance': 1.0, 'rank': 2571, 'token': 'わた', 'logit': -7.621779441833496, 'index': 216460, 'match_score': 0.00036010251212698915}\n",
      "{'match_ref': 'だた', 'match_len': 2, 'distance': 3.0, 'rank': 605, 'token': 'あなたの', 'logit': -5.733243465423584, 'index': 42283, 'match_score': 0.00032123821058981723}\n",
      "{'match_ref': 'だた', 'match_len': 2, 'distance': 1.0, 'rank': 2853, 'token': '満た', 'logit': -7.796447277069092, 'index': 214965, 'match_score': 0.0003024147297860922}\n",
      "{'match_ref': 'だた', 'match_len': 2, 'distance': 3.0, 'rank': 723, 'token': '作られた', 'logit': -5.910086631774902, 'index': 185311, 'match_score': 0.00026930991734425993}\n",
      "{'match_ref': 'だた', 'match_len': 2, 'distance': 3.0, 'rank': 758, 'token': '生まれた', 'logit': -5.966432094573975, 'index': 166033, 'match_score': 0.0002545928373551278}\n",
      "{'match_ref': 'だた', 'match_len': 2, 'distance': 2.0, 'rank': 1651, 'token': '会った', 'logit': -6.975973606109619, 'index': 214979, 'match_score': 0.00025258567847506736}\n",
      "{'match_ref': 'だた', 'match_len': 2, 'distance': 3.0, 'rank': 768, 'token': 'まったく', 'logit': -5.977933883666992, 'index': 121200, 'match_score': 0.0002516886992963611}\n",
      "{'match_ref': 'だた', 'match_len': 2, 'distance': 1.0, 'rank': 3165, 'token': '出た', 'logit': -7.98168420791626, 'index': 180922, 'match_score': 0.00025129610008214274}\n",
      "{'match_ref': 'だた', 'match_len': 2, 'distance': 1.0, 'rank': 3261, 'token': 'いた', 'logit': -8.034671783447266, 'index': 10963, 'match_score': 0.00023833136057842516}\n",
      "{'match_ref': 'だた', 'match_len': 2, 'distance': 2.0, 'rank': 1971, 'token': 'された', 'logit': -7.222011089324951, 'index': 7351, 'match_score': 0.0001975351579794706}\n",
      "{'match_ref': 'だた', 'match_len': 2, 'distance': 2.0, 'rank': 2008, 'token': '始めた', 'logit': -7.253952980041504, 'index': 114394, 'match_score': 0.0001913296077798206}\n",
      "{'match_ref': 'だた', 'match_len': 2, 'distance': 2.0, 'rank': 2014, 'token': '聞いた', 'logit': -7.258401870727539, 'index': 148240, 'match_score': 0.0001904808916164888}\n",
      "{'match_ref': 'だた', 'match_len': 2, 'distance': 1.0, 'rank': 3715, 'token': 'ふた', 'logit': -8.264581680297852, 'index': 198156, 'match_score': 0.0001893919381724441}\n",
      "{'match_ref': 'だた', 'match_len': 2, 'distance': 3.0, 'rank': 1011, 'token': '出会った', 'logit': -6.31279993057251, 'index': 235654, 'match_score': 0.0001801962436252163}\n"
     ]
    }
   ],
   "source": [
    "# 別のスコア関数を試してみる (distanceにexpをかけることで、編集距離を重視)\n",
    "# \"民主党の予備選挙ではヒラリー・クリントンが1位となり、バラク・オバマが僅差の2位 <extra_id_0>\",  # 'だた' → 'だった'\n",
    "original_token = 'だた'\n",
    "candidates = []\n",
    "for rank, (token, logit, index) in enumerate(zip(top_tokens[0], top_logits[0], top_indices[0])):\n",
    "    candidate = beginning_levenshtein(token, original_token)\n",
    "    candidate['rank'] = rank\n",
    "    candidate['token'] = token\n",
    "    candidate['logit'] = logit.tolist()\n",
    "    candidate['index'] = index.tolist()\n",
    "    # より一致部分が多く、より似ていて、より尤度の高いトークンを選びたい多目的最適化のようなものだが、暫定的に適当なスコアを作って最大化で代用する\n",
    "    candidate['match_score'] = candidate['match_len'] / math.exp(candidate['distance']) * sigmoid(candidate['logit'])\n",
    "    candidates.append(candidate)\n",
    "for c in sorted(candidates, key=lambda c: c['match_score'], reverse=True)[:30]:\n",
    "    print(c)"
   ]
  },
  {
   "cell_type": "code",
   "execution_count": 25,
   "metadata": {},
   "outputs": [],
   "source": [
    "# 別のスコア関数を試してみる (distanceにexpをかけることで、編集距離を重視)\n",
    "# \"民主党の予備選挙ではヒラリー・クリントンが1位となり、バラク・オバマが僅差の2位 <extra_id_0>\",  # 'だた' → 'だった'\n",
    "original_token = 'だた'\n",
    "candidates = []\n",
    "for rank, (token, logit, index) in enumerate(zip(top_tokens[0], top_logits[0], top_indices[0])):\n",
    "    candidate = beginning_levenshtein(token, original_token)\n",
    "    candidate['rank'] = rank\n",
    "    candidate['token'] = token\n",
    "    candidate['logit'] = logit.tolist()\n",
    "    candidate['index'] = index.tolist()\n",
    "    # より一致部分が多く、より似ていて、より尤度の高いトークンを選びたい多目的最適化のようなものだが、暫定的に適当なスコアを作って最大化で代用する\n",
    "    candidate['match_score'] = candidate['match_len'] / math.exp(candidate['distance']) * sigmoid(candidate['logit'])\n",
    "    candidates.append(candidate)"
   ]
  },
  {
   "cell_type": "code",
   "execution_count": 26,
   "metadata": {},
   "outputs": [
    {
     "name": "stdout",
     "output_type": "stream",
     "text": [
      "{'match_ref': 'だた', 'match_len': 2, 'distance': 1.0, 'rank': 44, 'token': 'また', 'logit': -3.4567394256591797, 'index': 6134, 'match_score': 0.022491052471564084}\n",
      "{'match_ref': 'だ', 'match_len': 1, 'distance': 1.0, 'rank': 53, 'token': 'まだ', 'logit': -3.5848755836486816, 'index': 27363, 'match_score': 0.009929571877136934}\n",
      "{'match_ref': 'だた', 'match_len': 2, 'distance': 1.0, 'rank': 236, 'token': '似た', 'logit': -4.786910057067871, 'index': 224733, 'match_score': 0.0060841607204473085}\n",
      "{'match_ref': 'だた', 'match_len': 2, 'distance': 1.0, 'rank': 891, 'token': '見た', 'logit': -6.165638446807861, 'index': 113704, 'match_score': 0.0015421319443203903}\n",
      "{'match_ref': 'だ', 'match_len': 1, 'distance': 1.0, 'rank': 517, 'token': 'だけ', 'logit': -5.551756381988525, 'index': 13386, 'match_score': 0.001422087371044277}\n",
      "{'match_ref': 'だた', 'match_len': 2, 'distance': 1.0, 'rank': 2571, 'token': 'わた', 'logit': -7.621779441833496, 'index': 216460, 'match_score': 0.00036010251212698915}\n",
      "{'match_ref': 'だた', 'match_len': 2, 'distance': 1.0, 'rank': 2853, 'token': '満た', 'logit': -7.796447277069092, 'index': 214965, 'match_score': 0.0003024147297860922}\n",
      "{'match_ref': 'だた', 'match_len': 2, 'distance': 1.0, 'rank': 3165, 'token': '出た', 'logit': -7.98168420791626, 'index': 180922, 'match_score': 0.00025129610008214274}\n",
      "{'match_ref': 'だた', 'match_len': 2, 'distance': 1.0, 'rank': 3261, 'token': 'いた', 'logit': -8.034671783447266, 'index': 10963, 'match_score': 0.00023833136057842516}\n",
      "{'match_ref': 'だた', 'match_len': 2, 'distance': 1.0, 'rank': 3715, 'token': 'ふた', 'logit': -8.264581680297852, 'index': 198156, 'match_score': 0.0001893919381724441}\n",
      "{'match_ref': 'だ', 'match_len': 1, 'distance': 1.0, 'rank': 2705, 'token': 'ただ', 'logit': -7.703155040740967, 'index': 19760, 'match_score': 0.000165986127954894}\n",
      "{'match_ref': 'だた', 'match_len': 2, 'distance': 1.0, 'rank': 4264, 'token': 'きた', 'logit': -8.518305778503418, 'index': 50354, 'match_score': 0.00014695878926922215}\n",
      "{'match_ref': 'だた', 'match_len': 2, 'distance': 1.0, 'rank': 4506, 'token': 'した', 'logit': -8.628752708435059, 'index': 2166, 'match_score': 0.00013159462287665308}\n",
      "{'match_ref': 'だた', 'match_len': 2, 'distance': 1.0, 'rank': 4649, 'token': 'あた', 'logit': -8.686455726623535, 'index': 192368, 'match_score': 0.00012421738911936903}\n",
      "{'match_ref': 'だ', 'match_len': 1, 'distance': 0.0, 'rank': 6118, 'token': 'だ', 'logit': -9.224996566772461, 'index': 5908, 'match_score': 9.853535827056798e-05}\n",
      "{'match_ref': 'だた', 'match_len': 2, 'distance': 1.0, 'rank': 5849, 'token': 'った', 'logit': -9.132808685302734, 'index': 6961, 'match_score': 7.949872608250132e-05}\n",
      "{'match_ref': 'だた', 'match_len': 2, 'distance': 1.0, 'rank': 5885, 'token': '来た', 'logit': -9.144474029541016, 'index': 93872, 'match_score': 7.857683267388419e-05}\n",
      "{'match_ref': 'だた', 'match_len': 2, 'distance': 1.0, 'rank': 6493, 'token': 'だった', 'logit': -9.34707260131836, 'index': 9372, 'match_score': 6.416756857240493e-05}\n",
      "{'match_ref': 'だ', 'match_len': 1, 'distance': 1.0, 'rank': 6455, 'token': 'くだ', 'logit': -9.331400871276855, 'index': 159382, 'match_score': 3.2590508399063304e-05}\n",
      "{'match_ref': 'だ', 'match_len': 1, 'distance': 1.0, 'rank': 6481, 'token': 'だが', 'logit': -9.343284606933594, 'index': 40213, 'match_score': 3.220553729572491e-05}\n",
      "{'match_ref': 'だた', 'match_len': 2, 'distance': 1.0, 'rank': 9511, 'token': 'みた', 'logit': -10.244834899902344, 'index': 119770, 'match_score': 2.6148381578053952e-05}\n",
      "{'match_ref': 'だた', 'match_len': 2, 'distance': 1.0, 'rank': 11236, 'token': 'けた', 'logit': -10.679993629455566, 'index': 139378, 'match_score': 1.6922449425663665e-05}\n",
      "{'match_ref': 'だた', 'match_len': 2, 'distance': 1.0, 'rank': 12697, 'token': 'うた', 'logit': -10.998287200927734, 'index': 194109, 'match_score': 1.2309284406131804e-05}\n",
      "{'match_ref': 'だた', 'match_len': 2, 'distance': 1.0, 'rank': 13930, 'token': 'たた', 'logit': -11.221577644348145, 'index': 183682, 'match_score': 9.846014085992449e-06}\n",
      "{'match_ref': 'だた', 'match_len': 2, 'distance': 1.0, 'rank': 14195, 'token': 'げた', 'logit': -11.270817756652832, 'index': 212382, 'match_score': 9.372944014059068e-06}\n",
      "{'match_ref': 'だた', 'match_len': 2, 'distance': 1.0, 'rank': 14545, 'token': 'れた', 'logit': -11.333575248718262, 'index': 52065, 'match_score': 8.802805922415387e-06}\n",
      "{'match_ref': 'だた', 'match_len': 2, 'distance': 1.0, 'rank': 15395, 'token': 'かた', 'logit': -11.479290962219238, 'index': 148080, 'match_score': 7.609187770360769e-06}\n",
      "{'match_ref': 'だ', 'match_len': 1, 'distance': 1.0, 'rank': 14015, 'token': 'だめ', 'logit': -11.237174987792969, 'index': 180313, 'match_score': 4.846817941394708e-06}\n",
      "{'match_ref': 'だ', 'match_len': 1, 'distance': 1.0, 'rank': 14605, 'token': 'んだ', 'logit': -11.344053268432617, 'index': 16145, 'match_score': 4.3555262882954e-06}\n",
      "{'match_ref': 'だ', 'match_len': 1, 'distance': 1.0, 'rank': 14695, 'token': 'だし', 'logit': -11.35827922821045, 'index': 42809, 'match_score': 4.294004113292249e-06}\n"
     ]
    }
   ],
   "source": [
    "for c in sorted(filter(lambda c: c['distance'] <= 1, candidates), key=lambda c: c['match_score'], reverse=True)[:30]:\n",
    "    print(c)"
   ]
  }
 ],
 "metadata": {
  "kernelspec": {
   "display_name": "Python 3",
   "language": "python",
   "name": "python3"
  },
  "language_info": {
   "codemirror_mode": {
    "name": "ipython",
    "version": 3
   },
   "file_extension": ".py",
   "mimetype": "text/x-python",
   "name": "python",
   "nbconvert_exporter": "python",
   "pygments_lexer": "ipython3",
   "version": "3.7.6"
  }
 },
 "nbformat": 4,
 "nbformat_minor": 4
}
