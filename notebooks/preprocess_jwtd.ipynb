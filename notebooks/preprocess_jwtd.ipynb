{
 "cells": [
  {
   "cell_type": "code",
   "execution_count": 1,
   "metadata": {},
   "outputs": [
    {
     "output_type": "stream",
     "name": "stdout",
     "text": [
      "/Users/tyoyo/lab/spell_correction\n"
     ]
    }
   ],
   "source": [
    "%cd ../../spell_correction"
   ]
  },
  {
   "cell_type": "code",
   "execution_count": 2,
   "metadata": {},
   "outputs": [],
   "source": [
    "import dask.dataframe as dd\n",
    "from smart_open import open\n",
    "from pathlib import Path\n",
    "import tarfile"
   ]
  },
  {
   "cell_type": "code",
   "execution_count": 3,
   "metadata": {},
   "outputs": [],
   "source": [
    "JWTD_URL = 'http://nlp.ist.i.kyoto-u.ac.jp/DLcounter/lime.cgi?down=http://nlp.ist.i.kyoto-u.ac.jp/nl-resource/JWTD/jwtd.tar.gz&name=JWTD.tar.gz'"
   ]
  },
  {
   "cell_type": "code",
   "execution_count": 4,
   "metadata": {},
   "outputs": [],
   "source": [
    "def download_data():\n",
    "    if Path(\"data/jwtd\").exists():\n",
    "        return\n",
    "    with open(JWTD_URL, \"rb\") as f:\n",
    "        with tarfile.open(fileobj=f) as tar:\n",
    "            tar.extractall(\"data\")\n"
   ]
  },
  {
   "cell_type": "code",
   "execution_count": 5,
   "metadata": {},
   "outputs": [],
   "source": [
    "download_data()"
   ]
  },
  {
   "cell_type": "code",
   "execution_count": 6,
   "metadata": {},
   "outputs": [],
   "source": [
    "df = dd.read_json('data/jwtd/train.jsonl')"
   ]
  },
  {
   "cell_type": "code",
   "execution_count": 7,
   "metadata": {},
   "outputs": [
    {
     "output_type": "execute_result",
     "data": {
      "text/plain": [
       "       category  page   pre_rev  post_rev  pre_loss  post_loss  \\\n",
       "0  substitution    11   8438207   8438306    107.91      94.64   \n",
       "1  substitution    11   8340576   8347256     98.43      93.17   \n",
       "2  substitution    11  10660707  10663485     89.56      85.26   \n",
       "3  substitution    31  69177119  69190275     84.85      73.36   \n",
       "4  substitution    31  49861281  49874437    285.34     275.48   \n",
       "\n",
       "                                            pre_text  \\\n",
       "0                      仮名の「ん」で表される音は、後続の音によって などとにる。   \n",
       "1                        長母音と短母音を区別があり、母音の長さで意味が変わる。   \n",
       "2                  これが正されるのは、江戸時代に本居宣長の登場してからのことである。   \n",
       "3                              シャルべ（シャルべ・プラス・ヴァンドーム）   \n",
       "4  ジャンヌ・ダルクの活躍などもあり、1435年のアラスの和約でブルゴーニュ派と和解して勢力を伸...   \n",
       "\n",
       "                                           post_text  \\\n",
       "0                      仮名の「ん」で表される音は、後続の音によって などとなる。   \n",
       "1                        長母音と短母音の区別があり、母音の長さで意味が変わる。   \n",
       "2                  これが正されるのは、江戸時代に本居宣長が登場してからのことである。   \n",
       "3                              シャルベ（シャルベ・プラス・ヴァンドーム）   \n",
       "4  ジャンヌ・ダルクの活躍などもあり、1435年のアラスの和約でブルゴーニュ派と和解して勢力を伸...   \n",
       "\n",
       "                                               diffs  \n",
       "0                      [{'pre': 'にる', 'post': 'なる'}]  \n",
       "1                        [{'pre': 'を', 'post': 'の'}]  \n",
       "2                        [{'pre': 'の', 'post': 'が'}]  \n",
       "3  [{'pre': 'シャルべ', 'post': 'シャルベ'}, {'pre': 'シャル...  \n",
       "4                    [{'pre': '改めと', 'post': '改めて'}]  "
      ],
      "text/html": "<div>\n<style scoped>\n    .dataframe tbody tr th:only-of-type {\n        vertical-align: middle;\n    }\n\n    .dataframe tbody tr th {\n        vertical-align: top;\n    }\n\n    .dataframe thead th {\n        text-align: right;\n    }\n</style>\n<table border=\"1\" class=\"dataframe\">\n  <thead>\n    <tr style=\"text-align: right;\">\n      <th></th>\n      <th>category</th>\n      <th>page</th>\n      <th>pre_rev</th>\n      <th>post_rev</th>\n      <th>pre_loss</th>\n      <th>post_loss</th>\n      <th>pre_text</th>\n      <th>post_text</th>\n      <th>diffs</th>\n    </tr>\n  </thead>\n  <tbody>\n    <tr>\n      <th>0</th>\n      <td>substitution</td>\n      <td>11</td>\n      <td>8438207</td>\n      <td>8438306</td>\n      <td>107.91</td>\n      <td>94.64</td>\n      <td>仮名の「ん」で表される音は、後続の音によって などとにる。</td>\n      <td>仮名の「ん」で表される音は、後続の音によって などとなる。</td>\n      <td>[{'pre': 'にる', 'post': 'なる'}]</td>\n    </tr>\n    <tr>\n      <th>1</th>\n      <td>substitution</td>\n      <td>11</td>\n      <td>8340576</td>\n      <td>8347256</td>\n      <td>98.43</td>\n      <td>93.17</td>\n      <td>長母音と短母音を区別があり、母音の長さで意味が変わる。</td>\n      <td>長母音と短母音の区別があり、母音の長さで意味が変わる。</td>\n      <td>[{'pre': 'を', 'post': 'の'}]</td>\n    </tr>\n    <tr>\n      <th>2</th>\n      <td>substitution</td>\n      <td>11</td>\n      <td>10660707</td>\n      <td>10663485</td>\n      <td>89.56</td>\n      <td>85.26</td>\n      <td>これが正されるのは、江戸時代に本居宣長の登場してからのことである。</td>\n      <td>これが正されるのは、江戸時代に本居宣長が登場してからのことである。</td>\n      <td>[{'pre': 'の', 'post': 'が'}]</td>\n    </tr>\n    <tr>\n      <th>3</th>\n      <td>substitution</td>\n      <td>31</td>\n      <td>69177119</td>\n      <td>69190275</td>\n      <td>84.85</td>\n      <td>73.36</td>\n      <td>シャルべ（シャルべ・プラス・ヴァンドーム）</td>\n      <td>シャルベ（シャルベ・プラス・ヴァンドーム）</td>\n      <td>[{'pre': 'シャルべ', 'post': 'シャルベ'}, {'pre': 'シャル...</td>\n    </tr>\n    <tr>\n      <th>4</th>\n      <td>substitution</td>\n      <td>31</td>\n      <td>49861281</td>\n      <td>49874437</td>\n      <td>285.34</td>\n      <td>275.48</td>\n      <td>ジャンヌ・ダルクの活躍などもあり、1435年のアラスの和約でブルゴーニュ派と和解して勢力を伸...</td>\n      <td>ジャンヌ・ダルクの活躍などもあり、1435年のアラスの和約でブルゴーニュ派と和解して勢力を伸...</td>\n      <td>[{'pre': '改めと', 'post': '改めて'}]</td>\n    </tr>\n  </tbody>\n</table>\n</div>"
     },
     "metadata": {},
     "execution_count": 7
    }
   ],
   "source": [
    "df.head()"
   ]
  },
  {
   "cell_type": "code",
   "execution_count": 8,
   "metadata": {},
   "outputs": [
    {
     "output_type": "execute_result",
     "data": {
      "text/plain": [
       "515328"
      ]
     },
     "metadata": {},
     "execution_count": 8
    }
   ],
   "source": [
    "len(df)"
   ]
  },
  {
   "cell_type": "code",
   "execution_count": 9,
   "metadata": {},
   "outputs": [],
   "source": [
    "train, dev = df.random_split([500000/515328, 1- 500000/515328], random_state=0)"
   ]
  },
  {
   "cell_type": "code",
   "execution_count": 17,
   "metadata": {},
   "outputs": [
    {
     "output_type": "execute_result",
     "data": {
      "text/plain": [
       "(500071, 15257)"
      ]
     },
     "metadata": {},
     "execution_count": 17
    }
   ],
   "source": [
    "len(train), len(dev)"
   ]
  },
  {
   "cell_type": "code",
   "execution_count": 15,
   "metadata": {},
   "outputs": [],
   "source": [
    "with open('gs://tyoyo/jwtd/v1.0/train.tsv', 'w') as f:\n",
    "    train[['pre_text', 'post_text']].compute().to_csv(f, sep='\\t', header=None, index=False)\n",
    "\n",
    "with open('gs://tyoyo/jwtd/v1.0/dev.tsv', 'w') as f:\n",
    "    dev[['pre_text', 'post_text']].compute().to_csv(f, sep='\\t', header=None, index=False)"
   ]
  },
  {
   "cell_type": "code",
   "execution_count": 16,
   "metadata": {},
   "outputs": [],
   "source": [
    "test = dd.read_json('data/jwtd/test.jsonl')\n",
    "with open('gs://tyoyo/jwtd/v1.0/test.tsv', 'w') as f:\n",
    "    test[['pre_text', 'post_text']].compute().to_csv(f, sep='\\t', header=None, index=False)"
   ]
  },
  {
   "cell_type": "code",
   "execution_count": 18,
   "metadata": {},
   "outputs": [],
   "source": [
    "readme = \"\"\"\n",
    "## JWTD preprocessed dataset\n",
    "\n",
    "このデータセットは[日本語Wikipedia入力誤りデータセット](http://nlp.ist.i.kyoto-u.ac.jp/?日本語Wikipedia入力誤りデータセット)を機械翻訳で解くためにtsv形式で前処理をしたデータセットです。\n",
    "\n",
    "## Data format\n",
    "\n",
    "tsvファイルで 修正前の文 \\t 修正後の文\n",
    "\n",
    "```shell\n",
    "$ head -3 train.tsv\n",
    "仮名の「ん」で表される音は、後続の音によって などとにる。\t仮名の「ん」で表される音は、後続の音によって などとなる。\n",
    "長母音と短母音を区別があり、母音の長さで意味が変わる。\t長母音と短母音の区別があり、母音の長さで意味が変わる。\n",
    "これが正されるのは、江戸時代に本居宣長の登場してからのことである。\tこれが正されるのは、江戸時代に本居宣長が登場してからのことである。\n",
    "```\n",
    "\n",
    "\n",
    "## Stats\n",
    "\n",
    "Datasize\n",
    "\n",
    "* train: 500071\n",
    "* dev: 15257\n",
    "* test: 8542\n",
    "\n",
    "(公開されているのはtrain/testで区切られているため、trainとdevの区切り方は任意。)\n",
    "\n",
    "## Changelogs\n",
    "\n",
    "### v1.0\n",
    "\n",
    "init\n",
    "\"\"\"\n",
    "\n",
    "\n",
    "with open('gs://tyoyo/jwtd/README.md', 'w') as f:\n",
    "    f.write(readme)"
   ]
  },
  {
   "cell_type": "code",
   "execution_count": null,
   "metadata": {},
   "outputs": [],
   "source": []
  }
 ],
 "metadata": {
  "kernelspec": {
   "display_name": "Python 3",
   "language": "python",
   "name": "python3"
  },
  "language_info": {
   "codemirror_mode": {
    "name": "ipython",
    "version": 3
   },
   "file_extension": ".py",
   "mimetype": "text/x-python",
   "name": "python",
   "nbconvert_exporter": "python",
   "pygments_lexer": "ipython3",
   "version": "3.7.6-final"
  }
 },
 "nbformat": 4,
 "nbformat_minor": 4
}