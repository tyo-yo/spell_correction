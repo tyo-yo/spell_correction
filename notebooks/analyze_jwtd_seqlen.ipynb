{
 "cells": [
  {
   "cell_type": "code",
   "execution_count": 2,
   "metadata": {},
   "outputs": [
    {
     "name": "stdout",
     "output_type": "stream",
     "text": [
      "/Users/tyoyo/lab/spell_correction\n"
     ]
    }
   ],
   "source": [
    "%cd ../../spell_correction"
   ]
  },
  {
   "cell_type": "code",
   "execution_count": 13,
   "metadata": {},
   "outputs": [],
   "source": [
    "from spell_correction import MeCabTokenizer\n",
    "from smart_open import open\n",
    "import pandas as pd"
   ]
  },
  {
   "cell_type": "code",
   "execution_count": 16,
   "metadata": {},
   "outputs": [],
   "source": [
    "with open(\"https://storage.googleapis.com/tyoyo/jwtd/v1.0/train.tsv\") as f:\n",
    "    df = pd.read_csv(f, sep='\\t', header=None)"
   ]
  },
  {
   "cell_type": "code",
   "execution_count": 20,
   "metadata": {},
   "outputs": [],
   "source": [
    "tokenizer = MeCabTokenizer()\n",
    "\n",
    "src_tokens = df[0].apply(tokenizer.tokenize)"
   ]
  },
  {
   "cell_type": "code",
   "execution_count": 22,
   "metadata": {},
   "outputs": [],
   "source": [
    "src_lens = src_tokens.apply(len)"
   ]
  },
  {
   "cell_type": "code",
   "execution_count": 26,
   "metadata": {},
   "outputs": [
    {
     "data": {
      "text/plain": [
       "count    500071.000000\n",
       "mean         35.509662\n",
       "std          20.428800\n",
       "min           1.000000\n",
       "25%          21.000000\n",
       "50%          31.000000\n",
       "75%          46.000000\n",
       "max         155.000000\n",
       "Name: 0, dtype: float64"
      ]
     },
     "execution_count": 26,
     "metadata": {},
     "output_type": "execute_result"
    }
   ],
   "source": [
    "src_lens.describe()"
   ]
  },
  {
   "cell_type": "code",
   "execution_count": 29,
   "metadata": {},
   "outputs": [
    {
     "data": {
      "text/plain": [
       "0.9895334862449532"
      ]
     },
     "execution_count": 29,
     "metadata": {},
     "output_type": "execute_result"
    }
   ],
   "source": [
    "(src_lens <= 100).mean()"
   ]
  },
  {
   "cell_type": "code",
   "execution_count": 30,
   "metadata": {},
   "outputs": [
    {
     "data": {
      "text/plain": [
       "0.9062313151532483"
      ]
     },
     "execution_count": 30,
     "metadata": {},
     "output_type": "execute_result"
    }
   ],
   "source": [
    "(src_lens <= 64).mean()"
   ]
  },
  {
   "cell_type": "code",
   "execution_count": 31,
   "metadata": {},
   "outputs": [
    {
     "data": {
      "text/plain": [
       "count    500071.000000\n",
       "mean         35.384329\n",
       "std          20.411678\n",
       "min           1.000000\n",
       "25%          21.000000\n",
       "50%          31.000000\n",
       "75%          46.000000\n",
       "max         155.000000\n",
       "Name: 1, dtype: float64"
      ]
     },
     "execution_count": 31,
     "metadata": {},
     "output_type": "execute_result"
    }
   ],
   "source": [
    "tgt_tokens = df[1].apply(tokenizer.tokenize)\n",
    "tgt_lens = tgt_tokens.apply(len)\n",
    "tgt_lens.describe()"
   ]
  },
  {
   "cell_type": "code",
   "execution_count": 32,
   "metadata": {},
   "outputs": [
    {
     "name": "stdout",
     "output_type": "stream",
     "text": [
      "0.9896214737507274\n",
      "0.9069352151994416\n"
     ]
    }
   ],
   "source": [
    "print((tgt_lens <= 100).mean())\n",
    "print((tgt_lens <= 64).mean())"
   ]
  },
  {
   "cell_type": "markdown",
   "metadata": {},
   "source": [
    "## 結論\n",
    "最大系列長を64にすると10%の文章が入りきらない。\n",
    "最大系列長を100にすれば99%の文章が入りきり、いい感じ。"
   ]
  },
  {
   "cell_type": "code",
   "execution_count": 35,
   "metadata": {},
   "outputs": [],
   "source": [
    "from collections import Counter"
   ]
  },
  {
   "cell_type": "code",
   "execution_count": 36,
   "metadata": {},
   "outputs": [],
   "source": [
    "counter = Counter()"
   ]
  },
  {
   "cell_type": "code",
   "execution_count": 39,
   "metadata": {},
   "outputs": [],
   "source": [
    "from itertools import chain\n",
    "\n",
    "for tokens in chain(src_tokens, tgt_tokens):\n",
    "    counter.update([t.text for t in tokens])\n"
   ]
  },
  {
   "cell_type": "code",
   "execution_count": 40,
   "metadata": {},
   "outputs": [],
   "source": [
    "freqs = counter.most_common()"
   ]
  },
  {
   "cell_type": "code",
   "execution_count": 46,
   "metadata": {},
   "outputs": [
    {
     "data": {
      "text/plain": [
       "292673"
      ]
     },
     "execution_count": 46,
     "metadata": {},
     "output_type": "execute_result"
    }
   ],
   "source": [
    "len(freqs)"
   ]
  },
  {
   "cell_type": "code",
   "execution_count": 42,
   "metadata": {},
   "outputs": [
    {
     "data": {
      "text/plain": [
       "[('の', 1756226),\n",
       " ('、', 1607767),\n",
       " ('に', 1145275),\n",
       " ('を', 1038435),\n",
       " ('。', 942591),\n",
       " ('は', 896739),\n",
       " ('た', 888769),\n",
       " ('が', 883025),\n",
       " ('で', 763508),\n",
       " ('て', 692960)]"
      ]
     },
     "execution_count": 42,
     "metadata": {},
     "output_type": "execute_result"
    }
   ],
   "source": [
    "freqs[0:10]"
   ]
  },
  {
   "cell_type": "code",
   "execution_count": 41,
   "metadata": {},
   "outputs": [
    {
     "data": {
      "text/plain": [
       "[('しも', 241),\n",
       " ('ぶつけ', 241),\n",
       " ('江戸川', 241),\n",
       " ('禅', 241),\n",
       " ('務', 241),\n",
       " ('任官', 241),\n",
       " ('よっ', 241),\n",
       " ('テナント', 241),\n",
       " ('絶た', 241),\n",
       " ('キラ', 241)]"
      ]
     },
     "execution_count": 41,
     "metadata": {},
     "output_type": "execute_result"
    }
   ],
   "source": [
    "freqs[10000:10010]"
   ]
  },
  {
   "cell_type": "code",
   "execution_count": 44,
   "metadata": {},
   "outputs": [
    {
     "data": {
      "text/plain": [
       "[('Air', 88),\n",
       " ('倣い', 88),\n",
       " ('ねずみ', 88),\n",
       " ('ワンセグ', 88),\n",
       " ('貧', 88),\n",
       " ('カイジ', 88),\n",
       " ('噴水', 88),\n",
       " ('Type', 88),\n",
       " ('皆様', 88),\n",
       " ('無口', 88)]"
      ]
     },
     "execution_count": 44,
     "metadata": {},
     "output_type": "execute_result"
    }
   ],
   "source": [
    "freqs[20000:20010]"
   ]
  },
  {
   "cell_type": "code",
   "execution_count": 43,
   "metadata": {},
   "outputs": [
    {
     "data": {
      "text/plain": [
       "[('保科', 46),\n",
       " ('選ら', 46),\n",
       " ('印可', 46),\n",
       " ('INOJO', 46),\n",
       " ('相乗', 45),\n",
       " ('ョ', 45),\n",
       " ('容易く', 45),\n",
       " ('公邸', 45),\n",
       " ('ボラ', 45),\n",
       " ('幼馴染み', 45)]"
      ]
     },
     "execution_count": 43,
     "metadata": {},
     "output_type": "execute_result"
    }
   ],
   "source": [
    "freqs[30000:30010]"
   ]
  },
  {
   "cell_type": "markdown",
   "metadata": {},
   "source": [
    "## 語彙数を3万とかにすると、誤字がOOVになってしまう。"
   ]
  },
  {
   "cell_type": "code",
   "execution_count": 47,
   "metadata": {},
   "outputs": [
    {
     "data": {
      "text/plain": [
       "[('ヒエラルキー', 18),\n",
       " ('鉄山', 18),\n",
       " ('笛吹川', 18),\n",
       " ('松之助', 18),\n",
       " ('イーゴリ', 18),\n",
       " ('水防', 18),\n",
       " ('BEGIN', 18),\n",
       " ('尾関', 18),\n",
       " ('達彦', 18),\n",
       " ('あそび', 18)]"
      ]
     },
     "execution_count": 47,
     "metadata": {},
     "output_type": "execute_result"
    }
   ],
   "source": [
    "freqs[50000:50010]"
   ]
  },
  {
   "cell_type": "code",
   "execution_count": 48,
   "metadata": {},
   "outputs": [
    {
     "data": {
      "text/plain": [
       "[('みさき公園', 6),\n",
       " ('ガルビオン', 6),\n",
       " ('かたく', 6),\n",
       " ('押しやる', 6),\n",
       " ('おびき出し', 6),\n",
       " ('Flag', 6),\n",
       " ('CECH', 6),\n",
       " ('バイカンフー', 6),\n",
       " ('経と', 6),\n",
       " ('無鉛', 6)]"
      ]
     },
     "execution_count": 48,
     "metadata": {},
     "output_type": "execute_result"
    }
   ],
   "source": [
    "freqs[100000:100010]"
   ]
  },
  {
   "cell_type": "code",
   "execution_count": null,
   "metadata": {},
   "outputs": [],
   "source": []
  }
 ],
 "metadata": {
  "kernelspec": {
   "display_name": "Python 3",
   "language": "python",
   "name": "python3"
  },
  "language_info": {
   "codemirror_mode": {
    "name": "ipython",
    "version": 3
   },
   "file_extension": ".py",
   "mimetype": "text/x-python",
   "name": "python",
   "nbconvert_exporter": "python",
   "pygments_lexer": "ipython3",
   "version": "3.7.6"
  }
 },
 "nbformat": 4,
 "nbformat_minor": 4
}
